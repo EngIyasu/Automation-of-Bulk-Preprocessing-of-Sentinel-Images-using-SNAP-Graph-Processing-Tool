{
 "cells": [
  {
   "cell_type": "markdown",
   "id": "6f02650e-6e91-4af7-88c2-4b851542e0e9",
   "metadata": {},
   "source": [
    "# Automation of Bulk Preprocessing of Sentinel Images using Graph Processing Tool (GPT)"
   ]
  },
  {
   "cell_type": "markdown",
   "id": "ca27e211-d25a-491b-a61e-023659f5dd84",
   "metadata": {},
   "source": [
    "This Jupyter Notebook automates the preprocessing of Sentinel-2 images through Graph Processing Tool (GPT) using the XML file saved from the Sentinel Application Platform's (SNAP's) Graph Builder tool. This allows to take advantage of the batch proessing option available in SNAP GPT. Here, the specific processing chain was defined (**Figure 1**) and the defined chain was applied can be applied to several images in an automatic way (In this Notebook, two Sentinel-2 images are used. However, this approach can be applied to several Sentinel-2 and/or Sentinel-1 images). This method allows reducing processin time and storage requirement since no intermediate steps outputs are created and stored. Only the final product is physically saved. The Notebook uses the resources from Mac's Terminal and Python library. This Notebook is prepared based on the NASA ARSET's training \"[Agricultural Crop Classification with Synthetic Aperture Radar and Optical Remote Sensing](https://appliedsciences.nasa.gov/join-mission/training/english/arset-agricultural-crop-classification-synthetic-aperture-radar-and)\".\n",
    "\n",
    "**Remember:** To run this Notebook, first the SNAP software should be downloaded and installed (http://step.esa.int/main/download/snap-download/)."
   ]
  },
  {
   "cell_type": "markdown",
   "id": "09bd34ca-0843-4869-8ae2-13466efec6f8",
   "metadata": {},
   "source": [
    "![GraphBuilder](./images/Graph_Builder_from_SNAP_1.png \"Title\")\n",
    "<center>Figure 1: Screenshot of Graph Builder Window from SNAP Software. </center>"
   ]
  },
  {
   "cell_type": "markdown",
   "id": "c658c8b1-985c-4009-b722-36bdfbd3444c",
   "metadata": {},
   "source": [
    "## Sentinel-2 Data Download\n",
    "\n",
    "To use this script, first the two Sentinel-2 Level 2A (given below) data products should be downloaded from the [Copernicus Open Access Hub](https://scihub.copernicus.eu/dhus/#/home) and saved in the \"data\" folder. \n",
    "> - S2A_MSIL2A_20200627T101031_N0214_R022_T32TQQ_20200627T120035\n",
    "> - S2A_MSIL2A_20200707T101031_N0214_R022_T32TQQ_20200707T135316"
   ]
  },
  {
   "cell_type": "markdown",
   "id": "2e5ce55f-4942-41b8-9e30-c46760028cd5",
   "metadata": {},
   "source": [
    "## Editing Graph Builder XML File"
   ]
  },
  {
   "cell_type": "code",
   "execution_count": 1,
   "id": "c17b92d5-214c-4735-9693-0964fedea1b2",
   "metadata": {},
   "outputs": [
    {
     "name": "stdout",
     "output_type": "stream",
     "text": [
      "<graph id=\"Graph\">\n",
      "  <version>1.0</version>\n",
      "  <node id=\"Read\">\n",
      "    <operator>Read</operator>\n",
      "    <sources/>\n",
      "    <parameters class=\"com.bc.ceres.binding.dom.XppDomElement\">\n",
      "      <file>/xxxxx/xxxxx/S2A_MSIL2A_20200627T101031_N0214_R022_T32TQQ_20200627T120035.SAFE/MTD_MSIL2A.xml</file>\n",
      "    </parameters>\n",
      "  </node>\n",
      "  <node id=\"Resample\">\n",
      "    <operator>Resample</operator>\n",
      "    <sources>\n",
      "      <sourceProduct refid=\"Read\"/>\n",
      "    </sources>\n",
      "    <parameters class=\"com.bc.ceres.binding.dom.XppDomElement\">\n",
      "      <referenceBand/>\n",
      "      <targetWidth/>\n",
      "      <targetHeight/>\n",
      "      <targetResolution>10</targetResolution>\n",
      "      <upsampling>Nearest</upsampling>\n",
      "      <downsampling>First</downsampling>\n",
      "      <flagDownsampling>First</flagDownsampling>\n",
      "      <resamplingPreset/>\n",
      "      <bandResamplings/>\n",
      "      <resampleOnPyramidLevels>true</resampleOnPyramidLevels>\n",
      "    </parameters>\n",
      "  </node>\n",
      "  <node id=\"Reproject\">\n",
      "    <operator>Reproject</operator>\n",
      "    <sources>\n",
      "      <sourceProduct refid=\"Resample\"/>\n",
      "    </sources>\n",
      "    <parameters class=\"com.bc.ceres.binding.dom.XppDomElement\">\n",
      "      <wktFile/>\n",
      "      <crs>GEOGCS[&quot;WGS84(DD)&quot;, \n",
      "  DATUM[&quot;WGS84&quot;, \n",
      "    SPHEROID[&quot;WGS84&quot;, 6378137.0, 298.257223563]], \n",
      "  PRIMEM[&quot;Greenwich&quot;, 0.0], \n",
      "  UNIT[&quot;degree&quot;, 0.017453292519943295], \n",
      "  AXIS[&quot;Geodetic longitude&quot;, EAST], \n",
      "  AXIS[&quot;Geodetic latitude&quot;, NORTH]]</crs>\n",
      "      <resampling>Nearest</resampling>\n",
      "      <referencePixelX/>\n",
      "      <referencePixelY/>\n",
      "      <easting/>\n",
      "      <northing/>\n",
      "      <orientation/>\n",
      "      <pixelSizeX/>\n",
      "      <pixelSizeY/>\n",
      "      <width/>\n",
      "      <height/>\n",
      "      <tileSizeX/>\n",
      "      <tileSizeY/>\n",
      "      <orthorectify>false</orthorectify>\n",
      "      <elevationModelName/>\n",
      "      <noDataValue>NaN</noDataValue>\n",
      "      <includeTiePointGrids>true</includeTiePointGrids>\n",
      "      <addDeltaBands>false</addDeltaBands>\n",
      "    </parameters>\n",
      "  </node>\n",
      "  <node id=\"Subset\">\n",
      "    <operator>Subset</operator>\n",
      "    <sources>\n",
      "      <sourceProduct refid=\"Reproject\"/>\n",
      "    </sources>\n",
      "    <parameters class=\"com.bc.ceres.binding.dom.XppDomElement\">\n",
      "      <sourceBands/>\n",
      "      <region>3000,5000,1000,1000</region>\n",
      "      <referenceBand/>\n",
      "      <geoRegion/>\n",
      "      <subSamplingX>1</subSamplingX>\n",
      "      <subSamplingY>1</subSamplingY>\n",
      "      <fullSwath>false</fullSwath>\n",
      "      <tiePointGridNames/>\n",
      "      <copyMetadata>true</copyMetadata>\n",
      "    </parameters>\n",
      "  </node>\n",
      "  <node id=\"BandMaths\">\n",
      "    <operator>BandMaths</operator>\n",
      "    <sources>\n",
      "      <sourceProduct refid=\"Subset\"/>\n",
      "    </sources>\n",
      "    <parameters class=\"com.bc.ceres.binding.dom.XppDomElement\">\n",
      "      <targetBands>\n",
      "        <targetBand>\n",
      "          <name>NDVI</name>\n",
      "          <type>float32</type>\n",
      "          <expression>(B8 - B4) / (B8 + B4)</expression>\n",
      "          <description/>\n",
      "          <unit/>\n",
      "          <noDataValue>0.0</noDataValue>\n",
      "        </targetBand>\n",
      "      </targetBands>\n",
      "      <variables/>\n",
      "    </parameters>\n",
      "  </node>\n",
      "  <node id=\"Biophysical10mOp\">\n",
      "    <operator>Biophysical10mOp</operator>\n",
      "    <sources>\n",
      "      <sourceProduct refid=\"Subset\"/>\n",
      "    </sources>\n",
      "    <parameters class=\"com.bc.ceres.binding.dom.XppDomElement\">\n",
      "      <sensor>S2A_10m</sensor>\n",
      "      <computeLAI>true</computeLAI>\n",
      "      <computeFapar>true</computeFapar>\n",
      "      <computeFcover>true</computeFcover>\n",
      "    </parameters>\n",
      "  </node>\n",
      "  <node id=\"BandMerge\">\n",
      "    <operator>BandMerge</operator>\n",
      "    <sources>\n",
      "      <sourceProduct refid=\"Biophysical10mOp\"/>\n",
      "      <sourceProduct.1 refid=\"BandMaths\"/>\n",
      "      <sourceProduct.2 refid=\"Subset\"/>\n",
      "    </sources>\n",
      "    <parameters class=\"com.bc.ceres.binding.dom.XppDomElement\">\n",
      "      <sourceBands/>\n",
      "      <geographicError>1.0E-5</geographicError>\n",
      "    </parameters>\n",
      "  </node>\n",
      "  <node id=\"Write\">\n",
      "    <operator>Write</operator>\n",
      "    <sources>\n",
      "      <sourceProduct refid=\"BandMerge\"/>\n",
      "    </sources>\n",
      "    <parameters class=\"com.bc.ceres.binding.dom.XppDomElement\">\n",
      "      <file>/xxxxx/xxxxx/S2A_MSIL2A_20200627T101031_N0214_R022_T32TQQ_20200627T120035_resam_repro_subset.dim</file>\n",
      "      <formatName>BEAM-DIMAP</formatName>\n",
      "    </parameters>\n",
      "  </node>\n",
      "  <applicationData id=\"Presentation\">\n",
      "    <Description/>\n",
      "    <node id=\"Read\">\n",
      "            <displayPosition x=\"35.0\" y=\"128.0\"/>\n",
      "    </node>\n",
      "    <node id=\"Resample\">\n",
      "      <displayPosition x=\"136.0\" y=\"131.0\"/>\n",
      "    </node>\n",
      "    <node id=\"Reproject\">\n",
      "      <displayPosition x=\"245.0\" y=\"147.0\"/>\n",
      "    </node>\n",
      "    <node id=\"Subset\">\n",
      "      <displayPosition x=\"355.0\" y=\"149.0\"/>\n",
      "    </node>\n",
      "    <node id=\"BandMaths\">\n",
      "      <displayPosition x=\"479.0\" y=\"70.0\"/>\n",
      "    </node>\n",
      "    <node id=\"Biophysical10mOp\">\n",
      "      <displayPosition x=\"502.0\" y=\"237.0\"/>\n",
      "    </node>\n",
      "    <node id=\"BandMerge\">\n",
      "      <displayPosition x=\"648.0\" y=\"140.0\"/>\n",
      "    </node>\n",
      "    <node id=\"Write\">\n",
      "            <displayPosition x=\"849.0\" y=\"149.0\"/>\n",
      "    </node>\n",
      "  </applicationData>\n",
      "</graph>"
     ]
    }
   ],
   "source": [
    "!cat ./data/S2_Graph.xml"
   ]
  },
  {
   "cell_type": "markdown",
   "id": "67b73326-d076-406a-98f3-a3f737a98169",
   "metadata": {},
   "source": [
    "The limitation of the above Graph Builder XML file is that you can only process one file. In order to make the XML dynamic for multiple input and output files, we need to make some changes to the XML file. This editing can be done either manually or through Python xml.etree.ElementTree library. The modification of the XML file can be done as follows:\n",
    "\n",
    "- Search for the *Read* node. Within that node, a line should list the Sentinel 2 file you used when creating the Graph Builder in SNAP software. \n",
    "- Replace the filename (/xxxxx/xxxxx/S2A_MSIL2A_20200627T101031_N0214_R022_T32TQQ_20200627T120035.SAFE/MTD_MSIL2A.xml) with the placeholder $input (this change makes the XML file to accept any Sentinel image). \n",
    "- Similarly, now search for the **Write** node and replace the filename (/xxxxx/xxxxx/S2A_MSIL2A_20200627T101031_N0214_R022_T32TQQ_20200627T120035_resam_repro_subset.dim) with the placeholder $output."
   ]
  },
  {
   "cell_type": "code",
   "execution_count": 2,
   "id": "654fc3cc-1b81-49db-95fe-9784cd7d018b",
   "metadata": {},
   "outputs": [],
   "source": [
    "from xml.etree import ElementTree as et\n",
    "\n",
    "with open('./data/S2_Graph.xml', encoding='latin-1') as f:\n",
    "    tree = et.parse(f)\n",
    "    root = tree.getroot()\n",
    "    \n",
    "    for elem in root.getiterator():\n",
    "        try:\n",
    "            elem.text = elem.text.replace('/xxxxx/xxxxx/S2A_MSIL2A_20200627T101031_N0214_R022_T32TQQ_20200627T120035.SAFE/MTD_MSIL2A.xml', '$input')\n",
    "            elem.text = elem.text.replace('/xxxxx/xxxxx/S2A_MSIL2A_20200627T101031_N0214_R022_T32TQQ_20200627T120035_resam_repro_subset.dim', '$output')\n",
    "        except AttributeError:\n",
    "            pass\n",
    "        \n",
    "tree.write('./data/S2_Graph_Final.xml', encoding='latin-1')"
   ]
  },
  {
   "cell_type": "markdown",
   "id": "2a4a91cd-b92f-42b1-9dbc-23379511a856",
   "metadata": {},
   "source": [
    "## Preparing Bash Script (.sh) for Batch Processing using GPT\n",
    "\n",
    "A file with .sh extension is a scripting language commands file that contains computer program to be run by Unix shell ([Source](https://docs.fileformat.com/programming/sh/)).\n",
    "\n",
    "Graph Processing Tool (GPT) is a SNAP command line interface (which can be found in the bin folder of the Sentinel Toolbox installation) to process the Sentinel images. This tool is used to execute SNAP raster data operators in bulk processing mode. The operators can be used stand-alone or combined as a directed acyclic graph (DAG)."
   ]
  },
  {
   "cell_type": "code",
   "execution_count": 3,
   "id": "36f46b34-7ddc-4a97-abe2-861280059a7c",
   "metadata": {},
   "outputs": [],
   "source": [
    "!/Applications/snap/bin/gpt ## To access GPT and to see the options for GPT"
   ]
  },
  {
   "cell_type": "code",
   "execution_count": 4,
   "id": "64ad32c4-4424-4041-b306-1f922b455472",
   "metadata": {},
   "outputs": [
    {
     "name": "stdout",
     "output_type": "stream",
     "text": [
      "Overwriting ./data/Script_GPT_Final.sh\n"
     ]
    }
   ],
   "source": [
    "%%writefile ./data/Script_GPT_Final.sh\n",
    "#!/bin/bash\n",
    "\n",
    "\n",
    "# 1- Define path variables \n",
    "\n",
    "Path_S2=./data/\n",
    "Path_output=./output/ \n",
    "\n",
    "# 2- Define name variables\n",
    "\n",
    "oldEnd=.SAFE\n",
    "preprocPol=_resam_reproj_subset \n",
    "\n",
    "# 3- Extract date & run GPT\n",
    "\n",
    "for i in $(ls -d -1 $Path_S2$S2A*.SAFE) \n",
    "do\n",
    "m=${i##*/}\n",
    "n=${m%.*}\n",
    "    date\n",
    "    /Applications/snap/bin/gpt ./data/S2_Graph_Final.xml -Pinput=$i -Poutput=\"$Path_output$n$preprocPol\"\n",
    "    date\n",
    "done"
   ]
  },
  {
   "cell_type": "markdown",
   "id": "33a3675d-4f75-462f-9ab2-c268292ca97b",
   "metadata": {},
   "source": [
    "## Running the Bash Script"
   ]
  },
  {
   "cell_type": "code",
   "execution_count": 5,
   "id": "2faae3fc-7f06-4f34-bc84-e1f35a96848c",
   "metadata": {},
   "outputs": [],
   "source": [
    "%%bash\n",
    "chmod +x ./data/Script_GPT_Final.sh ## To make the file executable (to fix the problem \"Permission denied\" from Terminal)"
   ]
  },
  {
   "cell_type": "code",
   "execution_count": 6,
   "id": "d2d20f7c-0e1e-40df-b0a1-5f58ed7ad829",
   "metadata": {},
   "outputs": [
    {
     "name": "stdout",
     "output_type": "stream",
     "text": [
      "Thu Oct 21 12:13:09 MDT 2021\n",
      "INFO: org.esa.snap.core.gpf.operators.tooladapter.ToolAdapterIO: Initializing external tool adapters\n",
      "INFO: org.esa.s2tbx.dataio.gdal.GDALVersion: Incompatible GDAL 3.2.1 found on system. Internal GDAL 3.0.0 from distribution will be used.\n",
      "INFO: org.esa.s2tbx.dataio.gdal.GDALVersion: Internal GDAL 3.0.0 set to be used by SNAP.\n",
      "INFO: org.esa.snap.core.util.EngineVersionCheckActivator: Please check regularly for new updates for the best SNAP experience.\n",
      "INFO: org.esa.s2tbx.dataio.gdal.GDALVersion: Internal GDAL 3.0.0 set to be used by SNAP.\n",
      "Executing processing graph\n",
      "INFO: org.esa.s2tbx.dataio.s2.ortho.S2OrthoProductReaderPlugIn: Building product reader - EPSG:32632\n",
      "WARNING: org.esa.snap.core.metadata.GenericXmlMetadata: Metadata: the path to element [metadata_level] does not exist\n",
      "WARNING: org.esa.snap.core.metadata.GenericXmlMetadata: Metadata: the path to element [bandid] does not exist\n",
      "WARNING: org.esa.snap.core.metadata.GenericXmlMetadata: Metadata: the path to element [bandid] does not exist\n",
      "WARNING: org.esa.snap.core.metadata.GenericXmlMetadata: Metadata: the path to element [bandid] does not exist\n",
      "WARNING: org.esa.snap.core.metadata.GenericXmlMetadata: Metadata: the path to element [bandid] does not exist\n",
      "WARNING: org.esa.snap.core.metadata.GenericXmlMetadata: Metadata: the path to element [bandid] does not exist\n",
      "INFO: org.hsqldb.persist.Logger: dataFileCache open start\n",
      "WARNING: org.esa.s2tbx.dataio.s2.ortho.metadata.S2OrthoMetadata: Warning: missing file ./data/S2A_MSIL2A_20200627T101031_N0214_R022_T32TQQ_20200627T120035.SAFE/GRANULE/L2A_T32TQQ_A026188_20200627T101243/QI_DATA/L2A_T32TQQ_20200627T101031_DDV_20m.jp2\n",
      "\n",
      "WARNING: org.esa.s2tbx.dataio.s2.ortho.metadata.S2OrthoMetadata: Warning: no image files found for band quality_dense_dark_vegetation\n",
      "\n",
      ".15%.30%.45%..56%.67%.82%. done.\n",
      "Thu Oct 21 12:14:36 MDT 2021\n",
      "Thu Oct 21 12:14:36 MDT 2021\n",
      "INFO: org.esa.snap.core.gpf.operators.tooladapter.ToolAdapterIO: Initializing external tool adapters\n",
      "INFO: org.esa.s2tbx.dataio.gdal.GDALVersion: Incompatible GDAL 3.2.1 found on system. Internal GDAL 3.0.0 from distribution will be used.\n",
      "INFO: org.esa.s2tbx.dataio.gdal.GDALVersion: Internal GDAL 3.0.0 set to be used by SNAP.\n",
      "INFO: org.esa.snap.core.util.EngineVersionCheckActivator: Please check regularly for new updates for the best SNAP experience.\n",
      "INFO: org.esa.s2tbx.dataio.gdal.GDALVersion: Internal GDAL 3.0.0 set to be used by SNAP.\n",
      "Executing processing graph\n",
      "INFO: org.esa.s2tbx.dataio.s2.ortho.S2OrthoProductReaderPlugIn: Building product reader - EPSG:32632\n",
      "WARNING: org.esa.snap.core.metadata.GenericXmlMetadata: Metadata: the path to element [metadata_level] does not exist\n",
      "WARNING: org.esa.snap.core.metadata.GenericXmlMetadata: Metadata: the path to element [bandid] does not exist\n",
      "WARNING: org.esa.snap.core.metadata.GenericXmlMetadata: Metadata: the path to element [bandid] does not exist\n",
      "WARNING: org.esa.snap.core.metadata.GenericXmlMetadata: Metadata: the path to element [bandid] does not exist\n",
      "WARNING: org.esa.snap.core.metadata.GenericXmlMetadata: Metadata: the path to element [bandid] does not exist\n",
      "WARNING: org.esa.snap.core.metadata.GenericXmlMetadata: Metadata: the path to element [bandid] does not exist\n",
      "INFO: org.hsqldb.persist.Logger: dataFileCache open start\n",
      "WARNING: org.esa.s2tbx.dataio.s2.ortho.metadata.S2OrthoMetadata: Warning: missing file ./data/S2A_MSIL2A_20200707T101031_N0214_R022_T32TQQ_20200707T135316.SAFE/GRANULE/L2A_T32TQQ_A026331_20200707T101405/QI_DATA/L2A_T32TQQ_20200707T101031_DDV_20m.jp2\n",
      "\n",
      "WARNING: org.esa.s2tbx.dataio.s2.ortho.metadata.S2OrthoMetadata: Warning: no image files found for band quality_dense_dark_vegetation\n",
      "\n",
      ".15%.30%.45%..56%.67%.82%. done.\n",
      "Thu Oct 21 12:16:24 MDT 2021\n"
     ]
    }
   ],
   "source": [
    "!./data/Script_GPT_Final.sh"
   ]
  },
  {
   "cell_type": "markdown",
   "id": "f7a7fcce-1b10-45f8-924e-59853e5fc597",
   "metadata": {},
   "source": [
    "## Visualizing RGB Images from the Processed Output"
   ]
  },
  {
   "cell_type": "markdown",
   "id": "60055ed6-6cd1-4278-a989-effc47a7e640",
   "metadata": {},
   "source": [
    "S2A_MSIL2A_20200627T101031_N0214_R022_T32TQQ_20200627T120035             |  S2A_MSIL2A_20200707T101031_N0214_R022_T32TQQ_20200707T135316\n",
    ":-------------------------:|:-------------------------:\n",
    "![](./images/S2A_MSIL2A_20200627T101031_N0214_R022_T32TQQ_20200627T120035_resam_reproj_subset_RGB.png)  |  ![](./images/S2A_MSIL2A_20200707T101031_N0214_R022_T32TQQ_20200707T135316_resam_reproj_subset_RGB.png)"
   ]
  },
  {
   "cell_type": "code",
   "execution_count": null,
   "id": "23a5ad3f-591e-45e2-83d3-47acfa4e0a1a",
   "metadata": {},
   "outputs": [],
   "source": []
  }
 ],
 "metadata": {
  "kernelspec": {
   "display_name": "Python 3",
   "language": "python",
   "name": "python3"
  },
  "language_info": {
   "codemirror_mode": {
    "name": "ipython",
    "version": 3
   },
   "file_extension": ".py",
   "mimetype": "text/x-python",
   "name": "python",
   "nbconvert_exporter": "python",
   "pygments_lexer": "ipython3",
   "version": "3.6.13"
  }
 },
 "nbformat": 4,
 "nbformat_minor": 5
}
